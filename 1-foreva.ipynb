{
 "cells": [
  {
   "cell_type": "code",
   "execution_count": 38,
   "metadata": {
    "collapsed": true
   },
   "outputs": [],
   "source": [
    "from scipy.optimize import linprog\n",
    "import numpy as np"
   ]
  },
  {
   "cell_type": "markdown",
   "source": [
    "# Кейс ФОРЕВА №1\n",
    "\n",
    "## Исходные данные"
   ],
   "metadata": {
    "collapsed": false
   }
  },
  {
   "cell_type": "code",
   "execution_count": 39,
   "outputs": [],
   "source": [
    "price = np.array([180, 285, 210])\n",
    "rm_costs = np.array([30+35, 35+30, 75])\n",
    "\n",
    "demand = [40,80,40]\n",
    "\n",
    "resource_plan = np.array([\n",
    "    [0,6+28,14],\n",
    "    [4+5+15,4+5,15],\n",
    "    [15+18, 9+6, 12+10],\n",
    "    [20, 18, 20+7],\n",
    "    [8,8+9,0]\n",
    "])\n",
    "\n",
    "resource_count = np.array([1,2,2,2,1])\n",
    "resource_downtime = np.array([15,120,60,20,0])\n",
    "downtime_count = np.array([3, 4, 5, 4, 2])\n",
    "time_limit = 8 * 5 * 60\n"
   ],
   "metadata": {
    "collapsed": false,
    "pycharm": {
     "name": "#%%\n"
    }
   }
  },
  {
   "cell_type": "markdown",
   "source": [
    "## Рассчеты\n",
    "Заставляем машинку складывать нули и единицы"
   ],
   "metadata": {
    "collapsed": false
   }
  },
  {
   "cell_type": "code",
   "execution_count": 40,
   "outputs": [],
   "source": [
    "profit = np.subtract(price,rm_costs)\n",
    "resource_limits = np.multiply(resource_count, time_limit)\n",
    "resource_downtime_total = np.multiply(resource_downtime,downtime_count)\n",
    "resource_usage = np.sum(resource_plan, axis=1)\n",
    "\n",
    "c = np.negative(profit)\n",
    "A_ub = resource_plan\n",
    "downtime_total =  np.multiply(resource_downtime,downtime_count)\n",
    "b_ub = np.subtract(np.multiply(resource_count,time_limit),downtime_total)\n",
    "bounds = [(0, x) for x in demand]\n",
    "\n",
    "result = linprog(c, A_ub=A_ub, b_ub=b_ub, bounds=bounds, method='simplex')"
   ],
   "metadata": {
    "collapsed": false,
    "pycharm": {
     "name": "#%%\n"
    }
   }
  },
  {
   "cell_type": "markdown",
   "source": [
    "## Результаты рассчетов"
   ],
   "metadata": {
    "collapsed": false,
    "pycharm": {
     "name": "#%% md\n"
    }
   }
  },
  {
   "cell_type": "code",
   "execution_count": 41,
   "outputs": [
    {
     "name": "stdout",
     "output_type": "stream",
     "text": [
      "Оптимизированная прибыль: 5614.705882352944\n",
      "Производственный план:\n",
      "Продукт №1: 40.0\n",
      "Продукт №2: 52.794117647058826\n",
      "Продукт №3: 40.0\n"
     ]
    }
   ],
   "source": [
    "print(f'Оптимизированная прибыль: {-result.fun-16000}')\n",
    "print(f'Производственный план:')\n",
    "j = 0\n",
    "for i in result.x:\n",
    "    j+=1\n",
    "    print(f'Продукт №{j}: {i}')\n"
   ],
   "metadata": {
    "collapsed": false,
    "pycharm": {
     "name": "#%%\n"
    }
   }
  }
 ],
 "metadata": {
  "kernelspec": {
   "display_name": "Python 3",
   "language": "python",
   "name": "python3"
  },
  "language_info": {
   "codemirror_mode": {
    "name": "ipython",
    "version": 2
   },
   "file_extension": ".py",
   "mimetype": "text/x-python",
   "name": "python",
   "nbconvert_exporter": "python",
   "pygments_lexer": "ipython2",
   "version": "2.7.6"
  }
 },
 "nbformat": 4,
 "nbformat_minor": 0
}